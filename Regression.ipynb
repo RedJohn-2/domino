{
  "nbformat": 4,
  "nbformat_minor": 0,
  "metadata": {
    "colab": {
      "provenance": [],
      "collapsed_sections": [],
      "authorship_tag": "ABX9TyNi1Dv0WRBmhGkmf2mcx9L1",
      "include_colab_link": true
    },
    "kernelspec": {
      "name": "python3",
      "display_name": "Python 3"
    },
    "language_info": {
      "name": "python"
    }
  },
  "cells": [
    {
      "cell_type": "markdown",
      "metadata": {
        "id": "view-in-github",
        "colab_type": "text"
      },
      "source": [
        "<a href=\"https://colab.research.google.com/github/RedJohn-2/domino/blob/main/Regression.ipynb\" target=\"_parent\"><img src=\"https://colab.research.google.com/assets/colab-badge.svg\" alt=\"Open In Colab\"/></a>"
      ]
    },
    {
      "cell_type": "code",
      "execution_count": 223,
      "metadata": {
        "colab": {
          "base_uri": "https://localhost:8080/",
          "height": 279
        },
        "id": "MCHoms-9YMb4",
        "outputId": "fe802055-6e9f-4d55-a3e9-7560aa9ccd5a"
      },
      "outputs": [
        {
          "output_type": "display_data",
          "data": {
            "text/plain": [
              "<Figure size 432x288 with 1 Axes>"
            ],
            "image/png": "[encoded data removed]"
          },
          "metadata": {
            "needs_background": "light"
          }
        }
      ],
      "source": [
        "import matplotlib.pyplot as plt\n",
        "import numpy as np\n",
        "import math\n",
        "# Масса бриллианта (один вектор признак - колонка)\n",
        "x = np.array([0.6831959 , 0.25458259, 0.67354428, 0.74830613, 0.90739678,\n",
        "       0.06290735, 0.16839531, 0.07119818, 0.29584922, 0.84051769,\n",
        "       0.99741599, 0.71778914, 0.84714404, 0.39867692, 0.00473723,\n",
        "       0.19515797, 0.58313993, 0.54521131, 0.02891357, 0.62185654,\n",
        "       0.06057894, 0.4634715 , 0.02124199, 0.21881736, 0.69091361,\n",
        "       0.44595423, 0.44023751, 0.33686769, 0.6587982 , 0.29263264,\n",
        "       0.31404403, 0.81788651, 0.31189899, 0.83582828, 0.36755224,\n",
        "       0.21713878, 0.99075022, 0.22865144, 0.59006634, 0.3274291 ,\n",
        "       0.06192493, 0.44105918, 0.98927508, 0.12416194, 0.76481954,\n",
        "       0.06342749, 0.88284818, 0.79940882, 0.89634089, 0.27545022,\n",
        "       0.66782815, 0.31282714, 0.94528755, 0.3505917 , 0.13078033,\n",
        "       0.42865987, 0.10672609, 0.32257667, 0.11124472, 0.67095367,\n",
        "       0.20620607, 0.31236211, 0.75648501, 0.58250717, 0.73358102,\n",
        "       0.73830706, 0.43125426, 0.58802052, 0.97980417, 0.4660172 ,\n",
        "       0.6554308 , 0.95263401, 0.45736879, 0.53784394, 0.35256428,\n",
        "       0.66130454, 0.09988696, 0.33070248, 0.36193415, 0.67583453,\n",
        "       0.36970363, 0.69452546, 0.02939772, 0.66806118, 0.75622945,\n",
        "       0.12861229, 0.27140559, 0.47572908, 0.20046112, 0.02247425,\n",
        "       0.16143744, 0.65309753, 0.35869316, 0.45083235, 0.67005189,\n",
        "       0.17758147, 0.58231079, 0.73645021, 0.86441219])\n",
        "\n",
        "# Стоимость бриллиантов (целевой вектор признак - колонка)\n",
        "y = np.array([ 4202.27140758,  1048.00429624,  3559.61471675,  4268.78115297,\n",
        "        4827.21522722,   880.96135823,   906.80757612,   701.05224513,\n",
        "        1579.55668945,  5443.75092094,  6666.49770578,  4151.76084197,\n",
        "        5526.62468583,  1925.20262991,   651.94842491,  1006.14855486,\n",
        "        3292.32797743,  2715.58263709,   617.46595473,  2819.93960765,\n",
        "        1053.30969989,  2037.40740842,   682.2738903 ,  1503.2987091 ,\n",
        "        3052.70388609,  1530.6617565 ,  3045.19156367,  1452.06569191,\n",
        "        3444.299013  ,  1477.03599097,  1470.8705949 ,  4124.78906891,\n",
        "        1107.72959289,  5728.11209103,  1456.33429815,   807.52129543,\n",
        "        9376.71903183,  1283.44753382,  2960.54976957,  1307.95523321,\n",
        "         815.14992123,  2198.30018159, 12048.11979255,   978.39652106,\n",
        "        4051.11260865,   748.34989044,  6836.57033278,  5103.48962728,\n",
        "        4276.62933577,  1178.77483245,  3491.20866576,  1270.52722773,\n",
        "        5527.14071774,  1136.24378178,  1395.9901034 ,  1812.98153522,\n",
        "         858.48927373,  1294.02903657,   937.79706412,  3100.59803684,\n",
        "        1092.26384023,  1087.2067898 ,  3590.52622572,  1968.6438898 ,\n",
        "        5768.30663329,  3382.62983174,  1905.49705482,  2991.27314895,\n",
        "       10864.12903023,  2424.09034666,  2441.55525994,  6211.76128177,\n",
        "        2090.69383603,  2050.07873383,  1355.56587375,  4712.83089618,\n",
        "         508.61315703,  1357.93084028,  1693.34412468,  4004.02646131,\n",
        "        1418.49737981,  5399.47599715,   501.10585941,  3830.36534842,\n",
        "        4797.31976234,   944.69922133,  1767.368758  ,  2094.57915139,\n",
        "        1082.17027822,  1110.09170937,   797.06686217,  3364.74611171,\n",
        "        1464.25709568,  1550.53558302,  4595.81721383,  1146.14511085,\n",
        "        4656.01714901,  3638.1124629 ,  7948.5540399])\n",
        "\n",
        "plt.plot(x, y, 'ro') # отображаем наши данные\n",
        "plt.xlabel('Масса') # название оси X\n",
        "plt.ylabel('Стоимость') # название оси Y\n",
        "plt.show()"
      ]
    },
    {
      "cell_type": "markdown",
      "source": [],
      "metadata": {
        "id": "-7QjOTtLaGZe"
      }
    },
    {
      "cell_type": "code",
      "source": [
        "# сгенерируем начальные значения параметров из нормального распределения\n",
        "w = np.random.randn(1) # вес (weight)\n",
        "b = np.random.randn(1) # сдвиг (bias)\n",
        "print(w)\n",
        "print(b)\n",
        "# скорость обучения\n",
        "lr = 10 ** (-8)\n",
        "# количество эпох (количество итераций обновления наших параметров)\n",
        "n_epochs = 20000\n",
        "\n",
        "# будем сохранять каждую итерацию ошибки\n",
        "mse_list = []\n",
        "\n",
        "# основной цикл обучения модели\n",
        "for epoch in range(n_epochs):\n",
        "\n",
        "    # делаем предсказание с текущими коэффициентами b и w и данными x\n",
        "    y_pred = math.e ** (b + w * x)\n",
        "\n",
        "    # посчитаем функцию ошибки MSE\n",
        "    mse = np.mean(((y - y_pred)**2))\n",
        "\n",
        "    # сохраним ошибку\n",
        "    mse_list.append(mse)\n",
        "    \n",
        "    # считаем градиенты при текущих параметрах (смотреть формулы полученных производных выше)\n",
        "    b_grad = -2 * ((y - y_pred) * y_pred).mean() # для коэффициента b\n",
        "    w_grad = -2 * ((y - y_pred)*x*y_pred).mean() # для коэффициента w\n",
        "    \n",
        "    # обновляем параметры, используя коэффициент скорости обучения\n",
        "    b = b - lr * b_grad\n",
        "    w = w - lr * w_grad\n",
        "\n",
        "    if epoch % 500==0:\n",
        "      print('MSE: эпоха ', epoch, ': ', mse) # выведем ошибку каждую 20-ую итерацию обучения"
      ],
      "metadata": {
        "colab": {
          "base_uri": "https://localhost:8080/"
        },
        "id": "UgdMwZjmZnJ6",
        "outputId": "1bd73ef3-cb6d-4333-9e2d-3f785677416c"
      },
      "execution_count": 252,
      "outputs": [
        {
          "output_type": "stream",
          "name": "stdout",
          "text": [
            "[-0.53153884]\n",
            "[0.24137025]\n",
            "MSE: эпоха  0 :  12848287.87533576\n",
            "MSE: эпоха  500 :  12848101.661195982\n",
            "MSE: эпоха  1000 :  12847901.032717507\n",
            "MSE: эпоха  1500 :  12847684.239955131\n",
            "MSE: эпоха  2000 :  12847449.23699439\n",
            "MSE: эпоха  2500 :  12847193.616515372\n",
            "MSE: эпоха  3000 :  12846914.526173329\n",
            "MSE: эпоха  3500 :  12846608.560610246\n",
            "MSE: эпоха  4000 :  12846271.620382113\n",
            "MSE: эпоха  4500 :  12845898.725330504\n",
            "MSE: эпоха  5000 :  12845483.764245056\n",
            "MSE: эпоха  5500 :  12845019.153891569\n",
            "MSE: эпоха  6000 :  12844495.366631407\n",
            "MSE: эпоха  6500 :  12843900.26343981\n",
            "MSE: эпоха  7000 :  12843218.131815657\n",
            "MSE: эпоха  7500 :  12842428.263981977\n",
            "MSE: эпоха  8000 :  12841502.796692183\n",
            "MSE: эпоха  8500 :  12840403.322426505\n",
            "MSE: эпоха  9000 :  12839075.370556831\n",
            "MSE: эпоха  9500 :  12837439.012094507\n",
            "MSE: эпоха  10000 :  12835371.986739686\n",
            "MSE: эпоха  10500 :  12832677.338647893\n",
            "MSE: эпоха  11000 :  12829015.94839299\n",
            "MSE: эпоха  11500 :  12823749.672912085\n",
            "MSE: эпоха  12000 :  12815517.512667136\n",
            "MSE: эпоха  12500 :  12800803.584132904\n",
            "MSE: эпоха  13000 :  12766851.009844659\n",
            "MSE: эпоха  13500 :  12602469.482356021\n",
            "MSE: эпоха  14000 :  706447.4641271902\n",
            "MSE: эпоха  14500 :  664788.9367431372\n",
            "MSE: эпоха  15000 :  664419.1077599614\n",
            "MSE: эпоха  15500 :  664416.7529597267\n",
            "MSE: эпоха  16000 :  664416.7384057067\n",
            "MSE: эпоха  16500 :  664416.7383159657\n",
            "MSE: эпоха  17000 :  664416.7383154121\n",
            "MSE: эпоха  17500 :  664416.7383154106\n",
            "MSE: эпоха  18000 :  664416.7383154104\n",
            "MSE: эпоха  18500 :  664416.738315409\n",
            "MSE: эпоха  19000 :  664416.7383154096\n",
            "MSE: эпоха  19500 :  664416.7383154096\n"
          ]
        }
      ]
    },
    {
      "cell_type": "code",
      "source": [
        "print('Найденный параметр b: ', b)\n",
        "print('Найденный параметр w: ', w)"
      ],
      "metadata": {
        "colab": {
          "base_uri": "https://localhost:8080/"
        },
        "id": "eEw64WfgrmXW",
        "outputId": "6580709e-ea7a-4dfd-92e9-2045daa74670"
      },
      "execution_count": 253,
      "outputs": [
        {
          "output_type": "stream",
          "name": "stdout",
          "text": [
            "Найденный параметр b:  [6.40679041]\n",
            "Найденный параметр w:  [2.66113739]\n"
          ]
        }
      ]
    },
    {
      "cell_type": "code",
      "source": [
        "y_pred = math.e ** (b+w*x) # после нахождения параметров построим нашу линейную регрессию\n",
        "\n",
        "plt.figure(figsize=(10, 10))\n",
        "plt.plot(x, y, 'ro') # выведем наши данные\n",
        "plt.plot(x, y_pred, 'go') # построим линейную регрессию\n",
        "plt.show()"
      ],
      "metadata": {
        "colab": {
          "base_uri": "https://localhost:8080/",
          "height": 592
        },
        "id": "IoWWmXk2r9Ct",
        "outputId": "34bcce68-a403-4e9a-a797-5fb54e96a5c6"
      },
      "execution_count": 254,
      "outputs": [
        {
          "output_type": "display_data",
          "data": {
            "text/plain": [
              "<Figure size 720x720 with 1 Axes>"
            ],
            "image/png": "[encoded data removed]"
          },
          "metadata": {
            "needs_background": "light"
          }
        }
      ]
    },
    {
      "cell_type": "code",
      "source": [
        "plt.figure(figsize=(10, 10))\n",
        "plt.plot(range(n_epochs), mse_list, 'ro') # ось x - количество эпох(range(n_epochs)), ось y - наши ошибки(mse_list)\n",
        "plt.title('Как менялась ошибка с каждой эпохой')\n",
        "plt.show()"
      ],
      "metadata": {
        "colab": {
          "base_uri": "https://localhost:8080/",
          "height": 607
        },
        "id": "kH-1lgfjvCdn",
        "outputId": "7baf3685-e128-4741-a572-d20aa4cf065c"
      },
      "execution_count": 255,
      "outputs": [
        {
          "output_type": "display_data",
          "data": {
            "text/plain": [
              "<Figure size 720x720 with 1 Axes>"
            ],
            "image/png": "[encoded data removed]"
          },
          "metadata": {
            "needs_background": "light"
          }
        }
      ]
    },
    {
      "cell_type": "code",
      "source": [
        "y_n = math.e ** (b + w * 0.60237692)\n",
        "print(y_n)"
      ],
      "metadata": {
        "colab": {
          "base_uri": "https://localhost:8080/"
        },
        "id": "915WHNUN7Fs3",
        "outputId": "ca73942a-5438-40b3-9b55-563b6e158229"
      },
      "execution_count": 256,
      "outputs": [
        {
          "output_type": "stream",
          "name": "stdout",
          "text": [
            "[3010.30942406]\n"
          ]
        }
      ]
    }
  ]
}